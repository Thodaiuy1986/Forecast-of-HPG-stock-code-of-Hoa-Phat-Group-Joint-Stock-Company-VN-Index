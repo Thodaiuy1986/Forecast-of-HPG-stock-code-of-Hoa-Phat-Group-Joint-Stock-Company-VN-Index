{
  "nbformat": 4,
  "nbformat_minor": 0,
  "metadata": {
    "colab": {
      "provenance": []
    },
    "kernelspec": {
      "name": "python3",
      "display_name": "Python 3"
    },
    "language_info": {
      "name": "python"
    },
    "accelerator": "TPU"
  },
  "cells": [
    {
      "cell_type": "code",
      "source": [
        "import numpy as np\n",
        "import pandas as pd\n",
        "import yfinance as yf\n",
        "import tensorflow as tf\n",
        "from tensorflow.keras.layers import Dense, LSTM\n",
        "from tensorflow.keras.models import Sequential\n",
        "from sklearn.preprocessing import MinMaxScaler\n",
        "from pandas import DataFrame"
      ],
      "metadata": {
        "id": "_3khxTNFGlKV",
        "colab": {
          "base_uri": "https://localhost:8080/"
        },
        "outputId": "85c97ccb-a507-4d4e-e029-e7e54494ff67"
      },
      "execution_count": null,
      "outputs": [
        {
          "output_type": "stream",
          "name": "stderr",
          "text": [
            "/usr/local/lib/python3.10/dist-packages/yfinance/base.py:48: FutureWarning: The default dtype for empty Series will be 'object' instead of 'float64' in a future version. Specify a dtype explicitly to silence this warning.\n",
            "  _empty_series = pd.Series()\n"
          ]
        }
      ]
    },
    {
      "cell_type": "code",
      "source": [
        "from google.colab import drive\n",
        "drive.mount('/content/drive')"
      ],
      "metadata": {
        "colab": {
          "base_uri": "https://localhost:8080/"
        },
        "id": "IugkExMZHbjQ",
        "outputId": "bfe8f2dd-3512-4138-d432-d85d73817ac7"
      },
      "execution_count": null,
      "outputs": [
        {
          "output_type": "stream",
          "name": "stdout",
          "text": [
            "Mounted at /content/drive\n"
          ]
        }
      ]
    },
    {
      "cell_type": "markdown",
      "source": [
        "Dòng mã **tf.random.set_seed(0)** được sử dụng để thiết lập hạt giống (seed) cho việc tạo số ngẫu nhiên trong thư viện TensorFlow. Bằng cách thiết lập hạt giống này thành 0, ta đảm bảo rằng các số ngẫu nhiên được tạo ra trong quá trình huấn luyện mô hình sẽ được tái tạo một cách nhất quán trong các lần chạy khác nhau. Điều này giúp cho việc tái sản xuất và so sánh kết quả huấn luyện mô hình trở nên dễ dàng hơn."
      ],
      "metadata": {
        "id": "w6q3FLINJeIm"
      }
    },
    {
      "cell_type": "markdown",
      "source": [
        "Dòng mã **pd.options.mode.chained_assignment = None** được sử dụng để tắt cảnh báo liên quan đến việc gán giá trị cho một DataFrame. Mặc định, pandas hiển thị cảnh báo khi thực hiện các toán tử gán trên một DataFrame để bảo vệ dữ liệu gốc khỏi bị thay đổi. Bằng cách đặt giá trị None cho pd.options.mode.chained_assignment, ta tắt cảnh báo này."
      ],
      "metadata": {
        "id": "xHxBqgjjJnEQ"
      }
    },
    {
      "cell_type": "code",
      "source": [
        "pd.options.mode.chained_assignment = None\n",
        "tf.random.set_seed(0)\n",
        "\n",
        "# download the data\n",
        "df = pd.read_csv('/content/drive/MyDrive/Colab Notebooks/HPG1.csv')"
      ],
      "metadata": {
        "id": "_wmGEFOEoUxN"
      },
      "execution_count": null,
      "outputs": []
    },
    {
      "cell_type": "code",
      "source": [
        "\n",
        "df['Date'] = pd.to_datetime(df['Date'])\n",
        "df.sort_values('Date',inplace=True)\n",
        "#df['Price'] = df.Price.str.replace(',','')\n",
        "df.set_index('Date',inplace=True)\n",
        "y = df['Price']\n",
        "# y.values.reshape(-1, 1) được sử dụng để chuyển đổi mảng y thành một mảng 2D có kích thước\n",
        "y = y.values.reshape(-1, 1)"
      ],
      "metadata": {
        "id": "IDzXSRTA2yjX"
      },
      "execution_count": null,
      "outputs": []
    },
    {
      "cell_type": "code",
      "source": [
        "# df = df.reset_index()"
      ],
      "metadata": {
        "id": "T4KLqL2u4dJt"
      },
      "execution_count": null,
      "outputs": []
    },
    {
      "cell_type": "markdown",
      "source": [
        "Đoạn mã dưới thực hiện tỉ lệ hoá dữ liệu y để đảm bảo rằng dữ liệu nằm trong khoảng [0, 1]. Việc này giúp chuẩn hóa dữ liệu và cải thiện hiệu suất của mô hình khi sử dụng các thuật toán như mạng nơ-ron."
      ],
      "metadata": {
        "id": "Fm9IMLN6Kqyq"
      }
    },
    {
      "cell_type": "code",
      "source": [
        "# scale the data\n",
        "scaler = MinMaxScaler(feature_range=(0, 1))\n",
        "scaler = scaler.fit(y)\n",
        "y = scaler.transform(y)"
      ],
      "metadata": {
        "id": "GVBzPvcyKpBp"
      },
      "execution_count": null,
      "outputs": []
    },
    {
      "cell_type": "markdown",
      "source": [
        "Biến **n_lookback** (độ dài của các chuỗi đầu vào) phụ thuộc vào bài toán cụ thể và đặc điểm của dữ liệu.\n",
        "\n",
        "Biến **n_forecast** được đặt thành 150, đại diện cho độ dài của các chuỗi đầu ra (kỳ dự báo). Điều này cho biết rằng chúng ta đang dự báo và mong đợi 150 điểm dữ liệu trong tương lai từ điểm dữ liệu hiện tại."
      ],
      "metadata": {
        "id": "fMesgXUsK9DL"
      }
    },
    {
      "cell_type": "code",
      "source": [
        "# generate the input and output sequences (n_lookback=n_forecast/2)\n",
        "n_lookback = 60  # length of input sequences (lookback period)\n",
        "n_forecast = 120  # length of output sequences (forecast period)"
      ],
      "metadata": {
        "id": "yjGEG08ML0Uq"
      },
      "execution_count": null,
      "outputs": []
    },
    {
      "cell_type": "markdown",
      "source": [
        "Sau vòng lặp, ta sẽ có **mảng X** chứa các chuỗi đầu vào và **mảng Y** chứa các chuỗi đầu ra, sẵn sàng để được sử dụng cho huấn luyện mô hình."
      ],
      "metadata": {
        "id": "JVQI-FhcNab6"
      }
    },
    {
      "cell_type": "code",
      "source": [
        "X = []\n",
        "Y = []\n",
        "\n",
        "for i in range(n_lookback, len(y) - n_forecast + 1):\n",
        "    X.append(y[i - n_lookback: i])\n",
        "    Y.append(y[i: i + n_forecast])\n",
        "\n",
        "X = np.array(X)\n",
        "Y = np.array(Y)"
      ],
      "metadata": {
        "id": "DevO7AKyL6QU"
      },
      "execution_count": null,
      "outputs": []
    },
    {
      "cell_type": "markdown",
      "source": [
        "**Sequential**() là một lớp (class) trong thư viện Keras (một giao diện cao cấp của TensorFlow) được sử dụng để tạo một mô hình mạng nơ-ron tuần tự (sequential neural network).\n",
        "\n"
      ],
      "metadata": {
        "id": "0OiA5EgINmmi"
      }
    },
    {
      "cell_type": "markdown",
      "source": [
        "**LSTM **(Long Short-Term Memory) là một kiểu lớp mạng nơ-ron trạng thái dài-ngắn, thường được sử dụng trong việc xử lý dữ liệu chuỗi (sequence data) như dữ liệu chuỗi thời gian. Nó giúp mô hình có khả năng \"nhớ\" thông tin quan trọng từ những quá khứ xa.\n",
        "\n",
        "Dòng mã trên thêm một **lớp LSTM** vào mô hình tuần tự thông qua phương thức add() của đối tượng mô hình (model). Lớp LSTM này sẽ trả về chuỗi đầu ra và có đầu vào có hình dạng (n_lookback, 1)."
      ],
      "metadata": {
        "id": "TWEL29K5OGwt"
      }
    },
    {
      "cell_type": "code",
      "source": [
        "# fit the model\n",
        "model = Sequential()\n",
        "model.add(LSTM(units=50, return_sequences=True, input_shape=(n_lookback, 1)))\n",
        "model.add(LSTM(units=50))\n",
        "model.add(Dense(n_forecast))\n",
        "\n",
        "model.compile(loss='mean_squared_error', optimizer='adam')\n",
        "model.fit(X, Y, epochs=100, batch_size=32, verbose=0)"
      ],
      "metadata": {
        "id": "7H28sWLsNku0",
        "colab": {
          "base_uri": "https://localhost:8080/"
        },
        "outputId": "a27888aa-fab3-4467-d306-284cadf0475b"
      },
      "execution_count": null,
      "outputs": [
        {
          "output_type": "execute_result",
          "data": {
            "text/plain": [
              "<keras.src.callbacks.History at 0x7f42810dcb80>"
            ]
          },
          "metadata": {},
          "execution_count": 27
        }
      ]
    },
    {
      "cell_type": "markdown",
      "source": [
        "**Tạo dự báo**\n",
        "\n",
        "X_ được khởi tạo bằng cách lấy chuỗi đầu vào cuối cùng (y[- n_lookback:]) từ dữ liệu và chuyển đổi nó thành mảng 3D với hình dạng (1, n_lookback, 1), đảm bảo rằng đầu vào có đúng hình dạng được yêu cầu bởi mô hình (số lượng mẫu, độ dài chuỗi đầu vào và số chiều).\n",
        "\n",
        "Y_ được tạo bằng cách sử dụng phương thức predict() của đối tượng mô hình (model) để dự đoán chuỗi đầu ra tương ứng với X_. Kết quả dự đoán ban đầu có hình dạng (1, n_forecast, 1),sau đó được chuyển đổi lại thành mảng 2D với hình dạng (n_forecast, 1)\n",
        "\n",
        "Cuối cùng, Y_ được chuyển đổi ngược trở lại đơn vị gốc bằng cách sử dụng scaler.inverse_transform().Điều này nhằm đảm bảo dự báo được trả về dưới dạng giá trị thực tế của dữ liệu ban đầu."
      ],
      "metadata": {
        "id": "lz5es4ZPPNxi"
      }
    },
    {
      "cell_type": "markdown",
      "source": [
        "Tóm lại, lấy **dữ liệu X 60 ngày cuối** và tạo ra **dữ liệu dự báo Y 120** ngày sau đó."
      ],
      "metadata": {
        "id": "owHPzF_dQfCK"
      }
    },
    {
      "cell_type": "code",
      "execution_count": null,
      "metadata": {
        "id": "tvQ4CnkKtVvf",
        "colab": {
          "base_uri": "https://localhost:8080/"
        },
        "outputId": "70ff1e79-e96d-47fe-c2c0-1665af66cc7d"
      },
      "outputs": [
        {
          "output_type": "stream",
          "name": "stdout",
          "text": [
            "1/1 [==============================] - 1s 866ms/step\n"
          ]
        }
      ],
      "source": [
        "# generate the forecasts\n",
        "X_ = y[- n_lookback:]  # last available input sequence\n",
        "X_ = X_.reshape(1, n_lookback, 1)\n",
        "\n",
        "Y_ = model.predict(X_).reshape(-1, 1)\n",
        "Y_ = scaler.inverse_transform(Y_)"
      ]
    },
    {
      "cell_type": "code",
      "source": [
        "Y_.shape"
      ],
      "metadata": {
        "colab": {
          "base_uri": "https://localhost:8080/"
        },
        "id": "GmnBwapvCU1z",
        "outputId": "ef2bdd9b-c064-48bf-93f5-9a8944c934d4"
      },
      "execution_count": null,
      "outputs": [
        {
          "output_type": "execute_result",
          "data": {
            "text/plain": [
              "(120, 1)"
            ]
          },
          "metadata": {},
          "execution_count": 29
        }
      ]
    },
    {
      "cell_type": "markdown",
      "source": [
        "Tạo ra ra bảng **df_past** và ** df_future**.\n",
        "\n",
        "**df_past** chứa 3 cột Date(index),Actual(Price),Forecast=null.Giá trị cuối cúa Forecast= giá trị cuối của Actual\n",
        "\n",
        "** df_future** chứa 3 cột Date(df_past[index]+n_forecast),Actual =null,Forecast(Y_: giá dự đoán trong thời gian n_forecast)."
      ],
      "metadata": {
        "id": "o-G5x__gQ9wp"
      }
    },
    {
      "cell_type": "code",
      "source": [
        "df_past = df[['Price']].reset_index()\n",
        "df_past.rename(columns={'index': 'Date', 'Price': 'Actual'}, inplace=True)\n",
        "df_past['Date'] = pd.to_datetime(df_past['Date'])\n",
        "df_past['Forecast'] = np.nan\n",
        "df_past['Forecast'].iloc[-1] = df_past['Actual'].iloc[-1]\n",
        "df_future = pd.DataFrame(columns=['Date', 'Actual', 'Forecast'])\n",
        "df_future['Date'] = pd.date_range(start=df_past['Date'].iloc[-1] + pd.Timedelta(days=1), periods=n_forecast)\n",
        "df_future['Forecast'] = Y_.flatten()\n",
        "df_future['Actual'] = np.nan"
      ],
      "metadata": {
        "id": "3cs35QiQtXbz"
      },
      "execution_count": null,
      "outputs": []
    },
    {
      "cell_type": "markdown",
      "source": [
        "Tạo **bảng result** gồm 2 bảng df_past(Lấy Date và Actual) và df_furture(Lấy Date và Forecast), đổi tên các cột thành Date và Price, chạy lại chỉ số Date, đổi kiểu dữ liệ Price thành float để sử dụng"
      ],
      "metadata": {
        "id": "LDbiXS06TGt_"
      }
    },
    {
      "cell_type": "code",
      "source": [
        "past = df_past[['Date','Actual']]\n",
        "past.rename(columns={'Actual':'Price'},inplace=True)\n",
        "predict = df_future[['Date','Forecast']]\n",
        "predict.rename(columns={'Forecast':'Price'},inplace=True)\n",
        "results = past.append(predict).set_index('Date')\n",
        "results = results.reset_index()\n",
        "results['Price'] = results['Price'].astype('float')\n"
      ],
      "metadata": {
        "id": "DRth61hOtYoQ",
        "colab": {
          "base_uri": "https://localhost:8080/"
        },
        "outputId": "0ba8e7e9-f64d-4465-8330-c930f2fc5cfa"
      },
      "execution_count": null,
      "outputs": [
        {
          "output_type": "stream",
          "name": "stderr",
          "text": [
            "<ipython-input-33-9f108af52561>:5: FutureWarning: The frame.append method is deprecated and will be removed from pandas in a future version. Use pandas.concat instead.\n",
            "  results = past.append(predict).set_index('Date')\n"
          ]
        }
      ]
    },
    {
      "cell_type": "code",
      "source": [
        "results.info()"
      ],
      "metadata": {
        "id": "kxkTFuoHCf3U"
      },
      "execution_count": null,
      "outputs": []
    },
    {
      "cell_type": "code",
      "source": [],
      "metadata": {
        "id": "_O8HEFdonesO"
      },
      "execution_count": null,
      "outputs": []
    },
    {
      "cell_type": "code",
      "source": [
        "results.plot(x = 'Date' , y = 'Price')"
      ],
      "metadata": {
        "colab": {
          "base_uri": "https://localhost:8080/",
          "height": 440
        },
        "id": "ji_JMFULtZn9",
        "outputId": "fd6039c3-0256-43d9-d7d2-1c197a05d2d2"
      },
      "execution_count": null,
      "outputs": [
        {
          "output_type": "execute_result",
          "data": {
            "text/plain": [
              "<Axes: xlabel='Date'>"
            ]
          },
          "metadata": {},
          "execution_count": 35
        },
        {
          "output_type": "display_data",
          "data": {
            "text/plain": [
              "<Figure size 640x480 with 1 Axes>"
            ],
            "image/png": "[encoded data removed]"
          },
          "metadata": {}
        }
      ]
    },
    {
      "cell_type": "code",
      "source": [
        "results[(results['Date'] >= '2024-02-15') ].plot(x = 'Date' , y = 'Price')"
      ],
      "metadata": {
        "colab": {
          "base_uri": "https://localhost:8080/",
          "height": 484
        },
        "id": "GH528jCyta0T",
        "outputId": "438a7687-ef84-4d37-93ad-dd1382d8a89b"
      },
      "execution_count": null,
      "outputs": [
        {
          "output_type": "execute_result",
          "data": {
            "text/plain": [
              "<Axes: xlabel='Date'>"
            ]
          },
          "metadata": {},
          "execution_count": 36
        },
        {
          "output_type": "display_data",
          "data": {
            "text/plain": [
              "<Figure size 640x480 with 1 Axes>"
            ],
            "image/png": "[encoded data removed]"
          },
          "metadata": {}
        }
      ]
    },
    {
      "cell_type": "code",
      "source": [
        "results[results['Date'] >= '2024-02-15']"
      ],
      "metadata": {
        "id": "lT5OJIFHtjIK"
      },
      "execution_count": null,
      "outputs": []
    },
    {
      "cell_type": "code",
      "source": [
        "HPG_pre=results"
      ],
      "metadata": {
        "id": "qkzshB0CyTS1"
      },
      "execution_count": null,
      "outputs": []
    },
    {
      "cell_type": "markdown",
      "source": [
        "Tạo hàm Predict_future_prices_stocks"
      ],
      "metadata": {
        "id": "DnEtiMMNZNYz"
      }
    },
    {
      "cell_type": "code",
      "source": [
        "def Predict_future_prices_stocks (df: DataFrame):\n",
        "  df['Date'] = pd.to_datetime(df['Date'])\n",
        "  df.sort_values('Date',inplace=True)\n",
        "  df.set_index('Date',inplace=True)\n",
        "  y = df['Price']\n",
        "  y = y.values.reshape(-1, 1)\n",
        "  scaler = MinMaxScaler(feature_range=(0, 1))\n",
        "  scaler = scaler.fit(y)\n",
        "  y = scaler.transform(y)\n",
        "  n_lookback = 60\n",
        "  n_forecast = 120\n",
        "  X = []\n",
        "  Y = []\n",
        "\n",
        "  for i in range(n_lookback, len(y) - n_forecast + 1):\n",
        "    X.append(y[i - n_lookback: i])\n",
        "    Y.append(y[i: i + n_forecast])\n",
        "  X = np.array(X)\n",
        "  Y = np.array(Y)\n",
        "  # fit the model\n",
        "  model = Sequential()\n",
        "  model.add(LSTM(units=50, return_sequences=True, input_shape=(n_lookback, 1)))\n",
        "  model.add(LSTM(units=50))\n",
        "  model.add(Dense(n_forecast))\n",
        "\n",
        "  model.compile(loss='mean_squared_error', optimizer='adam')\n",
        "  model.fit(X, Y, epochs=100, batch_size=32, verbose=0)\n",
        "  # generate the forecasts\n",
        "  X_ = y[- n_lookback:]  # last available input sequence\n",
        "  X_ = X_.reshape(1, n_lookback, 1)\n",
        "\n",
        "  Y_ = model.predict(X_).reshape(-1, 1)\n",
        "  Y_ = scaler.inverse_transform(Y_)\n",
        "\n",
        "  df_past = df[['Price']].reset_index()\n",
        "  df_past.rename(columns={'index': 'Date', 'Price': 'Actual'}, inplace=True)\n",
        "  df_past['Date'] = pd.to_datetime(df_past['Date'])\n",
        "  df_past['Forecast'] = np.nan\n",
        "  df_past['Forecast'].iloc[-1] = df_past['Actual'].iloc[-1]\n",
        "  df_future = pd.DataFrame(columns=['Date', 'Actual', 'Forecast'])\n",
        "  df_future['Date'] = pd.date_range(start=df_past['Date'].iloc[-1] + pd.Timedelta(days=1), periods=n_forecast)\n",
        "  df_future['Forecast'] = Y_.flatten()\n",
        "  df_future['Actual'] = np.nan\n",
        "\n",
        "  past = df_past[['Date','Actual']]\n",
        "  past.rename(columns={'Actual':'Price'},inplace=True)\n",
        "  predict = df_future[['Date','Forecast']]\n",
        "  predict.rename(columns={'Forecast':'Price'},inplace=True)\n",
        "  results = past.append(predict).set_index('Date')\n",
        "  results = results.reset_index()\n",
        "  results['Price'] = results['Price'].astype('float')\n",
        "\n",
        "  return results\n",
        "\n"
      ],
      "metadata": {
        "id": "9jMtq_4BnzIp"
      },
      "execution_count": null,
      "outputs": []
    },
    {
      "cell_type": "markdown",
      "source": [
        "chỉ định chạy GPU"
      ],
      "metadata": {
        "id": "WEMLcjj7Yz0a"
      }
    },
    {
      "cell_type": "code",
      "source": [
        "tf.device(\"/GPU:0\")"
      ],
      "metadata": {
        "id": "aVvA_F8cYzGL"
      },
      "execution_count": null,
      "outputs": []
    },
    {
      "cell_type": "code",
      "source": [
        "HPG = pd.read_csv('/content/drive/MyDrive/Colab Notebooks/HPG1.csv')"
      ],
      "metadata": {
        "id": "u5av7hQhfDrS"
      },
      "execution_count": null,
      "outputs": []
    },
    {
      "cell_type": "code",
      "source": [
        "HPG_pre = Predict_future_prices_stocks(HPG)"
      ],
      "metadata": {
        "id": "qz6glwwvfGHA"
      },
      "execution_count": null,
      "outputs": []
    },
    {
      "cell_type": "code",
      "source": [
        "NKG = pd.read_csv('/content/drive/MyDrive/Colab Notebooks/NKG1.csv')"
      ],
      "metadata": {
        "id": "h4pH3bR1qRgT"
      },
      "execution_count": null,
      "outputs": []
    },
    {
      "cell_type": "code",
      "source": [
        "NKG_pre = Predict_future_prices_stocks(NKG)"
      ],
      "metadata": {
        "id": "Xxtmp4Xdq3hz"
      },
      "execution_count": null,
      "outputs": []
    },
    {
      "cell_type": "code",
      "source": [
        "VHM = pd.read_csv('/content/drive/MyDrive/Colab Notebooks/VHM1.csv')"
      ],
      "metadata": {
        "id": "Kv4Plh7luJLf"
      },
      "execution_count": null,
      "outputs": []
    },
    {
      "cell_type": "code",
      "source": [
        "VHM_pre =Predict_future_prices_stocks(VHM)"
      ],
      "metadata": {
        "id": "FHM8AGZkuR1B"
      },
      "execution_count": null,
      "outputs": []
    },
    {
      "cell_type": "code",
      "source": [
        "HPG_pre.to_csv('/content/drive/MyDrive/Colab Notebooks/HPG_pre.csv')"
      ],
      "metadata": {
        "id": "3zfIP4KnjgyI"
      },
      "execution_count": null,
      "outputs": []
    },
    {
      "cell_type": "code",
      "source": [
        "NKG_pre.to_csv('/content/drive/MyDrive/Colab Notebooks/NKG_pre.csv')"
      ],
      "metadata": {
        "id": "BIWHZVUayxhq"
      },
      "execution_count": null,
      "outputs": []
    },
    {
      "cell_type": "code",
      "source": [
        "VHM_pre.to_csv('/content/drive/MyDrive/Colab Notebooks/VHM_pre.csv')"
      ],
      "metadata": {
        "id": "j5b0gPgSzWse"
      },
      "execution_count": null,
      "outputs": []
    },
    {
      "cell_type": "code",
      "source": [
        "NKG_pre"
      ],
      "metadata": {
        "id": "1qQ0TnIskCd_",
        "outputId": "442290f3-8ce5-4b06-e0f6-deda18a5f6d9",
        "colab": {
          "base_uri": "https://localhost:8080/",
          "height": 424
        }
      },
      "execution_count": null,
      "outputs": [
        {
          "output_type": "execute_result",
          "data": {
            "text/plain": [
              "           Date      Price\n",
              "0    2011-01-14   5.580000\n",
              "1    2011-01-17   5.850000\n",
              "2    2011-01-18   6.130000\n",
              "3    2011-01-19   6.420000\n",
              "4    2011-01-20   6.690000\n",
              "...         ...        ...\n",
              "3375 2024-06-10  30.510220\n",
              "3376 2024-06-11  30.983326\n",
              "3377 2024-06-12  31.069544\n",
              "3378 2024-06-13  32.640820\n",
              "3379 2024-06-14  32.166920\n",
              "\n",
              "[3380 rows x 2 columns]"
            ],
            "text/html": [
              "\n",
              "  <div id=\"df-d4151a82-faba-477b-b59d-9e5f0e410893\" class=\"colab-df-container\">\n",
              "    <div>\n",
              "<style scoped>\n",
              "    .dataframe tbody tr th:only-of-type {\n",
              "        vertical-align: middle;\n",
              "    }\n",
              "\n",
              "    .dataframe tbody tr th {\n",
              "        vertical-align: top;\n",
              "    }\n",
              "\n",
              "    .dataframe thead th {\n",
              "        text-align: right;\n",
              "    }\n",
              "</style>\n",
              "<table border=\"1\" class=\"dataframe\">\n",
              "  <thead>\n",
              "    <tr style=\"text-align: right;\">\n",
              "      <th></th>\n",
              "      <th>Date</th>\n",
              "      <th>Price</th>\n",
              "    </tr>\n",
              "  </thead>\n",
              "  <tbody>\n",
              "    <tr>\n",
              "      <th>0</th>\n",
              "      <td>2011-01-14</td>\n",
              "      <td>5.580000</td>\n",
              "    </tr>\n",
              "    <tr>\n",
              "      <th>1</th>\n",
              "      <td>2011-01-17</td>\n",
              "      <td>5.850000</td>\n",
              "    </tr>\n",
              "    <tr>\n",
              "      <th>2</th>\n",
              "      <td>2011-01-18</td>\n",
              "      <td>6.130000</td>\n",
              "    </tr>\n",
              "    <tr>\n",
              "      <th>3</th>\n",
              "      <td>2011-01-19</td>\n",
              "      <td>6.420000</td>\n",
              "    </tr>\n",
              "    <tr>\n",
              "      <th>4</th>\n",
              "      <td>2011-01-20</td>\n",
              "      <td>6.690000</td>\n",
              "    </tr>\n",
              "    <tr>\n",
              "      <th>...</th>\n",
              "      <td>...</td>\n",
              "      <td>...</td>\n",
              "    </tr>\n",
              "    <tr>\n",
              "      <th>3375</th>\n",
              "      <td>2024-06-10</td>\n",
              "      <td>30.510220</td>\n",
              "    </tr>\n",
              "    <tr>\n",
              "      <th>3376</th>\n",
              "      <td>2024-06-11</td>\n",
              "      <td>30.983326</td>\n",
              "    </tr>\n",
              "    <tr>\n",
              "      <th>3377</th>\n",
              "      <td>2024-06-12</td>\n",
              "      <td>31.069544</td>\n",
              "    </tr>\n",
              "    <tr>\n",
              "      <th>3378</th>\n",
              "      <td>2024-06-13</td>\n",
              "      <td>32.640820</td>\n",
              "    </tr>\n",
              "    <tr>\n",
              "      <th>3379</th>\n",
              "      <td>2024-06-14</td>\n",
              "      <td>32.166920</td>\n",
              "    </tr>\n",
              "  </tbody>\n",
              "</table>\n",
              "<p>3380 rows × 2 columns</p>\n",
              "</div>\n",
              "    <div class=\"colab-df-buttons\">\n",
              "\n",
              "  <div class=\"colab-df-container\">\n",
              "    <button class=\"colab-df-convert\" onclick=\"convertToInteractive('df-d4151a82-faba-477b-b59d-9e5f0e410893')\"\n",
              "            title=\"Convert this dataframe to an interactive table.\"\n",
              "            style=\"display:none;\">\n",
              "\n",
              "  <svg xmlns=\"http://www.w3.org/2000/svg\" height=\"24px\" viewBox=\"0 -960 960 960\">\n",
              "    <path d=\"M120-120v-720h720v720H120Zm60-500h600v-160H180v160Zm220 220h160v-160H400v160Zm0 220h160v-160H400v160ZM180-400h160v-160H180v160Zm440 0h160v-160H620v160ZM180-180h160v-160H180v160Zm440 0h160v-160H620v160Z\"/>\n",
              "  </svg>\n",
              "    </button>\n",
              "\n",
              "  <style>\n",
              "    .colab-df-container {\n",
              "      display:flex;\n",
              "      gap: 12px;\n",
              "    }\n",
              "\n",
              "    .colab-df-convert {\n",
              "      background-color: #E8F0FE;\n",
              "      border: none;\n",
              "      border-radius: 50%;\n",
              "      cursor: pointer;\n",
              "      display: none;\n",
              "      fill: #1967D2;\n",
              "      height: 32px;\n",
              "      padding: 0 0 0 0;\n",
              "      width: 32px;\n",
              "    }\n",
              "\n",
              "    .colab-df-convert:hover {\n",
              "      background-color: #E2EBFA;\n",
              "      box-shadow: 0px 1px 2px rgba(60, 64, 67, 0.3), 0px 1px 3px 1px rgba(60, 64, 67, 0.15);\n",
              "      fill: #174EA6;\n",
              "    }\n",
              "\n",
              "    .colab-df-buttons div {\n",
              "      margin-bottom: 4px;\n",
              "    }\n",
              "\n",
              "    [theme=dark] .colab-df-convert {\n",
              "      background-color: #3B4455;\n",
              "      fill: #D2E3FC;\n",
              "    }\n",
              "\n",
              "    [theme=dark] .colab-df-convert:hover {\n",
              "      background-color: #434B5C;\n",
              "      box-shadow: 0px 1px 3px 1px rgba(0, 0, 0, 0.15);\n",
              "      filter: drop-shadow(0px 1px 2px rgba(0, 0, 0, 0.3));\n",
              "      fill: #FFFFFF;\n",
              "    }\n",
              "  </style>\n",
              "\n",
              "    <script>\n",
              "      const buttonEl =\n",
              "        document.querySelector('#df-d4151a82-faba-477b-b59d-9e5f0e410893 button.colab-df-convert');\n",
              "      buttonEl.style.display =\n",
              "        google.colab.kernel.accessAllowed ? 'block' : 'none';\n",
              "\n",
              "      async function convertToInteractive(key) {\n",
              "        const element = document.querySelector('#df-d4151a82-faba-477b-b59d-9e5f0e410893');\n",
              "        const dataTable =\n",
              "          await google.colab.kernel.invokeFunction('convertToInteractive',\n",
              "                                                    [key], {});\n",
              "        if (!dataTable) return;\n",
              "\n",
              "        const docLinkHtml = 'Like what you see? Visit the ' +\n",
              "          '<a target=\"_blank\" href=https://colab.research.google.com/notebooks/data_table.ipynb>data table notebook</a>'\n",
              "          + ' to learn more about interactive tables.';\n",
              "        element.innerHTML = '';\n",
              "        dataTable['output_type'] = 'display_data';\n",
              "        await google.colab.output.renderOutput(dataTable, element);\n",
              "        const docLink = document.createElement('div');\n",
              "        docLink.innerHTML = docLinkHtml;\n",
              "        element.appendChild(docLink);\n",
              "      }\n",
              "    </script>\n",
              "  </div>\n",
              "\n",
              "\n",
              "<div id=\"df-ad00ff01-90b4-402c-9202-3fb9d3190d9d\">\n",
              "  <button class=\"colab-df-quickchart\" onclick=\"quickchart('df-ad00ff01-90b4-402c-9202-3fb9d3190d9d')\"\n",
              "            title=\"Suggest charts\"\n",
              "            style=\"display:none;\">\n",
              "\n",
              "<svg xmlns=\"http://www.w3.org/2000/svg\" height=\"24px\"viewBox=\"0 0 24 24\"\n",
              "     width=\"24px\">\n",
              "    <g>\n",
              "        <path d=\"M19 3H5c-1.1 0-2 .9-2 2v14c0 1.1.9 2 2 2h14c1.1 0 2-.9 2-2V5c0-1.1-.9-2-2-2zM9 17H7v-7h2v7zm4 0h-2V7h2v10zm4 0h-2v-4h2v4z\"/>\n",
              "    </g>\n",
              "</svg>\n",
              "  </button>\n",
              "\n",
              "<style>\n",
              "  .colab-df-quickchart {\n",
              "      --bg-color: #E8F0FE;\n",
              "      --fill-color: #1967D2;\n",
              "      --hover-bg-color: #E2EBFA;\n",
              "      --hover-fill-color: #174EA6;\n",
              "      --disabled-fill-color: #AAA;\n",
              "      --disabled-bg-color: #DDD;\n",
              "  }\n",
              "\n",
              "  [theme=dark] .colab-df-quickchart {\n",
              "      --bg-color: #3B4455;\n",
              "      --fill-color: #D2E3FC;\n",
              "      --hover-bg-color: #434B5C;\n",
              "      --hover-fill-color: #FFFFFF;\n",
              "      --disabled-bg-color: #3B4455;\n",
              "      --disabled-fill-color: #666;\n",
              "  }\n",
              "\n",
              "  .colab-df-quickchart {\n",
              "    background-color: var(--bg-color);\n",
              "    border: none;\n",
              "    border-radius: 50%;\n",
              "    cursor: pointer;\n",
              "    display: none;\n",
              "    fill: var(--fill-color);\n",
              "    height: 32px;\n",
              "    padding: 0;\n",
              "    width: 32px;\n",
              "  }\n",
              "\n",
              "  .colab-df-quickchart:hover {\n",
              "    background-color: var(--hover-bg-color);\n",
              "    box-shadow: 0 1px 2px rgba(60, 64, 67, 0.3), 0 1px 3px 1px rgba(60, 64, 67, 0.15);\n",
              "    fill: var(--button-hover-fill-color);\n",
              "  }\n",
              "\n",
              "  .colab-df-quickchart-complete:disabled,\n",
              "  .colab-df-quickchart-complete:disabled:hover {\n",
              "    background-color: var(--disabled-bg-color);\n",
              "    fill: var(--disabled-fill-color);\n",
              "    box-shadow: none;\n",
              "  }\n",
              "\n",
              "  .colab-df-spinner {\n",
              "    border: 2px solid var(--fill-color);\n",
              "    border-color: transparent;\n",
              "    border-bottom-color: var(--fill-color);\n",
              "    animation:\n",
              "      spin 1s steps(1) infinite;\n",
              "  }\n",
              "\n",
              "  @keyframes spin {\n",
              "    0% {\n",
              "      border-color: transparent;\n",
              "      border-bottom-color: var(--fill-color);\n",
              "      border-left-color: var(--fill-color);\n",
              "    }\n",
              "    20% {\n",
              "      border-color: transparent;\n",
              "      border-left-color: var(--fill-color);\n",
              "      border-top-color: var(--fill-color);\n",
              "    }\n",
              "    30% {\n",
              "      border-color: transparent;\n",
              "      border-left-color: var(--fill-color);\n",
              "      border-top-color: var(--fill-color);\n",
              "      border-right-color: var(--fill-color);\n",
              "    }\n",
              "    40% {\n",
              "      border-color: transparent;\n",
              "      border-right-color: var(--fill-color);\n",
              "      border-top-color: var(--fill-color);\n",
              "    }\n",
              "    60% {\n",
              "      border-color: transparent;\n",
              "      border-right-color: var(--fill-color);\n",
              "    }\n",
              "    80% {\n",
              "      border-color: transparent;\n",
              "      border-right-color: var(--fill-color);\n",
              "      border-bottom-color: var(--fill-color);\n",
              "    }\n",
              "    90% {\n",
              "      border-color: transparent;\n",
              "      border-bottom-color: var(--fill-color);\n",
              "    }\n",
              "  }\n",
              "</style>\n",
              "\n",
              "  <script>\n",
              "    async function quickchart(key) {\n",
              "      const quickchartButtonEl =\n",
              "        document.querySelector('#' + key + ' button');\n",
              "      quickchartButtonEl.disabled = true;  // To prevent multiple clicks.\n",
              "      quickchartButtonEl.classList.add('colab-df-spinner');\n",
              "      try {\n",
              "        const charts = await google.colab.kernel.invokeFunction(\n",
              "            'suggestCharts', [key], {});\n",
              "      } catch (error) {\n",
              "        console.error('Error during call to suggestCharts:', error);\n",
              "      }\n",
              "      quickchartButtonEl.classList.remove('colab-df-spinner');\n",
              "      quickchartButtonEl.classList.add('colab-df-quickchart-complete');\n",
              "    }\n",
              "    (() => {\n",
              "      let quickchartButtonEl =\n",
              "        document.querySelector('#df-ad00ff01-90b4-402c-9202-3fb9d3190d9d button');\n",
              "      quickchartButtonEl.style.display =\n",
              "        google.colab.kernel.accessAllowed ? 'block' : 'none';\n",
              "    })();\n",
              "  </script>\n",
              "</div>\n",
              "    </div>\n",
              "  </div>\n"
            ],
            "application/vnd.google.colaboratory.intrinsic+json": {
              "type": "dataframe",
              "variable_name": "NKG_pre",
              "summary": "{\n  \"name\": \"NKG_pre\",\n  \"rows\": 3380,\n  \"fields\": [\n    {\n      \"column\": \"Date\",\n      \"properties\": {\n        \"dtype\": \"date\",\n        \"min\": \"2011-01-14 00:00:00\",\n        \"max\": \"2024-06-14 00:00:00\",\n        \"samples\": [\n          \"2012-08-28 00:00:00\",\n          \"2012-05-07 00:00:00\",\n          \"2012-11-14 00:00:00\"\n        ],\n        \"num_unique_values\": 3380,\n        \"semantic_type\": \"\",\n        \"description\": \"\"\n      }\n    },\n    {\n      \"column\": \"Price\",\n      \"properties\": {\n        \"dtype\": \"number\",\n        \"std\": 9.780269672316985,\n        \"min\": 1.59,\n        \"max\": 44.97,\n        \"samples\": [\n          17.33,\n          15.3,\n          8.05\n        ],\n        \"num_unique_values\": 1228,\n        \"semantic_type\": \"\",\n        \"description\": \"\"\n      }\n    }\n  ]\n}"
            }
          },
          "metadata": {},
          "execution_count": 31
        }
      ]
    },
    {
      "cell_type": "code",
      "source": [
        "dfs = [HPG_pre, NKG_pre, VHM_pre]"
      ],
      "metadata": {
        "id": "ZxK-ADSPyEIS"
      },
      "execution_count": null,
      "outputs": []
    },
    {
      "cell_type": "code",
      "source": [
        "df_merged = pd.concat([df[['Date', 'Price']] for df in dfs], axis=1)"
      ],
      "metadata": {
        "id": "j7TuJIJfyDFH"
      },
      "execution_count": null,
      "outputs": []
    },
    {
      "cell_type": "code",
      "source": [
        "df_merged"
      ],
      "metadata": {
        "colab": {
          "base_uri": "https://localhost:8080/",
          "height": 424
        },
        "id": "iG5PXfIX3M4A",
        "outputId": "f6a98d99-2325-4f50-8b5a-f0cac60e233d"
      },
      "execution_count": null,
      "outputs": [
        {
          "output_type": "execute_result",
          "data": {
            "text/plain": [
              "           Date      Price       Date  Price       Date  Price\n",
              "0    2007-11-15   2.640000 2011-01-14   5.58 2018-05-17  64.36\n",
              "1    2007-11-16   2.520000 2011-01-17   5.85 2018-05-18  64.36\n",
              "2    2007-11-19   2.390000 2011-01-18   6.13 2018-05-21  64.36\n",
              "3    2007-11-20   2.290000 2011-01-19   6.42 2018-05-22  68.85\n",
              "4    2007-11-21   2.370000 2011-01-20   6.69 2018-05-23  64.25\n",
              "...         ...        ...        ...    ...        ...    ...\n",
              "4165 2024-06-10  27.908575        NaT    NaN        NaT    NaN\n",
              "4166 2024-06-11  28.831743        NaT    NaN        NaT    NaN\n",
              "4167 2024-06-12  29.601198        NaT    NaN        NaT    NaN\n",
              "4168 2024-06-13  28.959389        NaT    NaN        NaT    NaN\n",
              "4169 2024-06-14  27.675766        NaT    NaN        NaT    NaN\n",
              "\n",
              "[4170 rows x 6 columns]"
            ],
            "text/html": [
              "\n",
              "  <div id=\"df-b14b5d34-14b1-4628-8408-f832b55a518a\" class=\"colab-df-container\">\n",
              "    <div>\n",
              "<style scoped>\n",
              "    .dataframe tbody tr th:only-of-type {\n",
              "        vertical-align: middle;\n",
              "    }\n",
              "\n",
              "    .dataframe tbody tr th {\n",
              "        vertical-align: top;\n",
              "    }\n",
              "\n",
              "    .dataframe thead th {\n",
              "        text-align: right;\n",
              "    }\n",
              "</style>\n",
              "<table border=\"1\" class=\"dataframe\">\n",
              "  <thead>\n",
              "    <tr style=\"text-align: right;\">\n",
              "      <th></th>\n",
              "      <th>Date</th>\n",
              "      <th>Price</th>\n",
              "      <th>Date</th>\n",
              "      <th>Price</th>\n",
              "      <th>Date</th>\n",
              "      <th>Price</th>\n",
              "    </tr>\n",
              "  </thead>\n",
              "  <tbody>\n",
              "    <tr>\n",
              "      <th>0</th>\n",
              "      <td>2007-11-15</td>\n",
              "      <td>2.640000</td>\n",
              "      <td>2011-01-14</td>\n",
              "      <td>5.58</td>\n",
              "      <td>2018-05-17</td>\n",
              "      <td>64.36</td>\n",
              "    </tr>\n",
              "    <tr>\n",
              "      <th>1</th>\n",
              "      <td>2007-11-16</td>\n",
              "      <td>2.520000</td>\n",
              "      <td>2011-01-17</td>\n",
              "      <td>5.85</td>\n",
              "      <td>2018-05-18</td>\n",
              "      <td>64.36</td>\n",
              "    </tr>\n",
              "    <tr>\n",
              "      <th>2</th>\n",
              "      <td>2007-11-19</td>\n",
              "      <td>2.390000</td>\n",
              "      <td>2011-01-18</td>\n",
              "      <td>6.13</td>\n",
              "      <td>2018-05-21</td>\n",
              "      <td>64.36</td>\n",
              "    </tr>\n",
              "    <tr>\n",
              "      <th>3</th>\n",
              "      <td>2007-11-20</td>\n",
              "      <td>2.290000</td>\n",
              "      <td>2011-01-19</td>\n",
              "      <td>6.42</td>\n",
              "      <td>2018-05-22</td>\n",
              "      <td>68.85</td>\n",
              "    </tr>\n",
              "    <tr>\n",
              "      <th>4</th>\n",
              "      <td>2007-11-21</td>\n",
              "      <td>2.370000</td>\n",
              "      <td>2011-01-20</td>\n",
              "      <td>6.69</td>\n",
              "      <td>2018-05-23</td>\n",
              "      <td>64.25</td>\n",
              "    </tr>\n",
              "    <tr>\n",
              "      <th>...</th>\n",
              "      <td>...</td>\n",
              "      <td>...</td>\n",
              "      <td>...</td>\n",
              "      <td>...</td>\n",
              "      <td>...</td>\n",
              "      <td>...</td>\n",
              "    </tr>\n",
              "    <tr>\n",
              "      <th>4165</th>\n",
              "      <td>2024-06-10</td>\n",
              "      <td>27.908575</td>\n",
              "      <td>NaT</td>\n",
              "      <td>NaN</td>\n",
              "      <td>NaT</td>\n",
              "      <td>NaN</td>\n",
              "    </tr>\n",
              "    <tr>\n",
              "      <th>4166</th>\n",
              "      <td>2024-06-11</td>\n",
              "      <td>28.831743</td>\n",
              "      <td>NaT</td>\n",
              "      <td>NaN</td>\n",
              "      <td>NaT</td>\n",
              "      <td>NaN</td>\n",
              "    </tr>\n",
              "    <tr>\n",
              "      <th>4167</th>\n",
              "      <td>2024-06-12</td>\n",
              "      <td>29.601198</td>\n",
              "      <td>NaT</td>\n",
              "      <td>NaN</td>\n",
              "      <td>NaT</td>\n",
              "      <td>NaN</td>\n",
              "    </tr>\n",
              "    <tr>\n",
              "      <th>4168</th>\n",
              "      <td>2024-06-13</td>\n",
              "      <td>28.959389</td>\n",
              "      <td>NaT</td>\n",
              "      <td>NaN</td>\n",
              "      <td>NaT</td>\n",
              "      <td>NaN</td>\n",
              "    </tr>\n",
              "    <tr>\n",
              "      <th>4169</th>\n",
              "      <td>2024-06-14</td>\n",
              "      <td>27.675766</td>\n",
              "      <td>NaT</td>\n",
              "      <td>NaN</td>\n",
              "      <td>NaT</td>\n",
              "      <td>NaN</td>\n",
              "    </tr>\n",
              "  </tbody>\n",
              "</table>\n",
              "<p>4170 rows × 6 columns</p>\n",
              "</div>\n",
              "    <div class=\"colab-df-buttons\">\n",
              "\n",
              "  <div class=\"colab-df-container\">\n",
              "    <button class=\"colab-df-convert\" onclick=\"convertToInteractive('df-b14b5d34-14b1-4628-8408-f832b55a518a')\"\n",
              "            title=\"Convert this dataframe to an interactive table.\"\n",
              "            style=\"display:none;\">\n",
              "\n",
              "  <svg xmlns=\"http://www.w3.org/2000/svg\" height=\"24px\" viewBox=\"0 -960 960 960\">\n",
              "    <path d=\"M120-120v-720h720v720H120Zm60-500h600v-160H180v160Zm220 220h160v-160H400v160Zm0 220h160v-160H400v160ZM180-400h160v-160H180v160Zm440 0h160v-160H620v160ZM180-180h160v-160H180v160Zm440 0h160v-160H620v160Z\"/>\n",
              "  </svg>\n",
              "    </button>\n",
              "\n",
              "  <style>\n",
              "    .colab-df-container {\n",
              "      display:flex;\n",
              "      gap: 12px;\n",
              "    }\n",
              "\n",
              "    .colab-df-convert {\n",
              "      background-color: #E8F0FE;\n",
              "      border: none;\n",
              "      border-radius: 50%;\n",
              "      cursor: pointer;\n",
              "      display: none;\n",
              "      fill: #1967D2;\n",
              "      height: 32px;\n",
              "      padding: 0 0 0 0;\n",
              "      width: 32px;\n",
              "    }\n",
              "\n",
              "    .colab-df-convert:hover {\n",
              "      background-color: #E2EBFA;\n",
              "      box-shadow: 0px 1px 2px rgba(60, 64, 67, 0.3), 0px 1px 3px 1px rgba(60, 64, 67, 0.15);\n",
              "      fill: #174EA6;\n",
              "    }\n",
              "\n",
              "    .colab-df-buttons div {\n",
              "      margin-bottom: 4px;\n",
              "    }\n",
              "\n",
              "    [theme=dark] .colab-df-convert {\n",
              "      background-color: #3B4455;\n",
              "      fill: #D2E3FC;\n",
              "    }\n",
              "\n",
              "    [theme=dark] .colab-df-convert:hover {\n",
              "      background-color: #434B5C;\n",
              "      box-shadow: 0px 1px 3px 1px rgba(0, 0, 0, 0.15);\n",
              "      filter: drop-shadow(0px 1px 2px rgba(0, 0, 0, 0.3));\n",
              "      fill: #FFFFFF;\n",
              "    }\n",
              "  </style>\n",
              "\n",
              "    <script>\n",
              "      const buttonEl =\n",
              "        document.querySelector('#df-b14b5d34-14b1-4628-8408-f832b55a518a button.colab-df-convert');\n",
              "      buttonEl.style.display =\n",
              "        google.colab.kernel.accessAllowed ? 'block' : 'none';\n",
              "\n",
              "      async function convertToInteractive(key) {\n",
              "        const element = document.querySelector('#df-b14b5d34-14b1-4628-8408-f832b55a518a');\n",
              "        const dataTable =\n",
              "          await google.colab.kernel.invokeFunction('convertToInteractive',\n",
              "                                                    [key], {});\n",
              "        if (!dataTable) return;\n",
              "\n",
              "        const docLinkHtml = 'Like what you see? Visit the ' +\n",
              "          '<a target=\"_blank\" href=https://colab.research.google.com/notebooks/data_table.ipynb>data table notebook</a>'\n",
              "          + ' to learn more about interactive tables.';\n",
              "        element.innerHTML = '';\n",
              "        dataTable['output_type'] = 'display_data';\n",
              "        await google.colab.output.renderOutput(dataTable, element);\n",
              "        const docLink = document.createElement('div');\n",
              "        docLink.innerHTML = docLinkHtml;\n",
              "        element.appendChild(docLink);\n",
              "      }\n",
              "    </script>\n",
              "  </div>\n",
              "\n",
              "\n",
              "<div id=\"df-5c3eb8bc-4158-4993-9cad-499c6704ffcf\">\n",
              "  <button class=\"colab-df-quickchart\" onclick=\"quickchart('df-5c3eb8bc-4158-4993-9cad-499c6704ffcf')\"\n",
              "            title=\"Suggest charts\"\n",
              "            style=\"display:none;\">\n",
              "\n",
              "<svg xmlns=\"http://www.w3.org/2000/svg\" height=\"24px\"viewBox=\"0 0 24 24\"\n",
              "     width=\"24px\">\n",
              "    <g>\n",
              "        <path d=\"M19 3H5c-1.1 0-2 .9-2 2v14c0 1.1.9 2 2 2h14c1.1 0 2-.9 2-2V5c0-1.1-.9-2-2-2zM9 17H7v-7h2v7zm4 0h-2V7h2v10zm4 0h-2v-4h2v4z\"/>\n",
              "    </g>\n",
              "</svg>\n",
              "  </button>\n",
              "\n",
              "<style>\n",
              "  .colab-df-quickchart {\n",
              "      --bg-color: #E8F0FE;\n",
              "      --fill-color: #1967D2;\n",
              "      --hover-bg-color: #E2EBFA;\n",
              "      --hover-fill-color: #174EA6;\n",
              "      --disabled-fill-color: #AAA;\n",
              "      --disabled-bg-color: #DDD;\n",
              "  }\n",
              "\n",
              "  [theme=dark] .colab-df-quickchart {\n",
              "      --bg-color: #3B4455;\n",
              "      --fill-color: #D2E3FC;\n",
              "      --hover-bg-color: #434B5C;\n",
              "      --hover-fill-color: #FFFFFF;\n",
              "      --disabled-bg-color: #3B4455;\n",
              "      --disabled-fill-color: #666;\n",
              "  }\n",
              "\n",
              "  .colab-df-quickchart {\n",
              "    background-color: var(--bg-color);\n",
              "    border: none;\n",
              "    border-radius: 50%;\n",
              "    cursor: pointer;\n",
              "    display: none;\n",
              "    fill: var(--fill-color);\n",
              "    height: 32px;\n",
              "    padding: 0;\n",
              "    width: 32px;\n",
              "  }\n",
              "\n",
              "  .colab-df-quickchart:hover {\n",
              "    background-color: var(--hover-bg-color);\n",
              "    box-shadow: 0 1px 2px rgba(60, 64, 67, 0.3), 0 1px 3px 1px rgba(60, 64, 67, 0.15);\n",
              "    fill: var(--button-hover-fill-color);\n",
              "  }\n",
              "\n",
              "  .colab-df-quickchart-complete:disabled,\n",
              "  .colab-df-quickchart-complete:disabled:hover {\n",
              "    background-color: var(--disabled-bg-color);\n",
              "    fill: var(--disabled-fill-color);\n",
              "    box-shadow: none;\n",
              "  }\n",
              "\n",
              "  .colab-df-spinner {\n",
              "    border: 2px solid var(--fill-color);\n",
              "    border-color: transparent;\n",
              "    border-bottom-color: var(--fill-color);\n",
              "    animation:\n",
              "      spin 1s steps(1) infinite;\n",
              "  }\n",
              "\n",
              "  @keyframes spin {\n",
              "    0% {\n",
              "      border-color: transparent;\n",
              "      border-bottom-color: var(--fill-color);\n",
              "      border-left-color: var(--fill-color);\n",
              "    }\n",
              "    20% {\n",
              "      border-color: transparent;\n",
              "      border-left-color: var(--fill-color);\n",
              "      border-top-color: var(--fill-color);\n",
              "    }\n",
              "    30% {\n",
              "      border-color: transparent;\n",
              "      border-left-color: var(--fill-color);\n",
              "      border-top-color: var(--fill-color);\n",
              "      border-right-color: var(--fill-color);\n",
              "    }\n",
              "    40% {\n",
              "      border-color: transparent;\n",
              "      border-right-color: var(--fill-color);\n",
              "      border-top-color: var(--fill-color);\n",
              "    }\n",
              "    60% {\n",
              "      border-color: transparent;\n",
              "      border-right-color: var(--fill-color);\n",
              "    }\n",
              "    80% {\n",
              "      border-color: transparent;\n",
              "      border-right-color: var(--fill-color);\n",
              "      border-bottom-color: var(--fill-color);\n",
              "    }\n",
              "    90% {\n",
              "      border-color: transparent;\n",
              "      border-bottom-color: var(--fill-color);\n",
              "    }\n",
              "  }\n",
              "</style>\n",
              "\n",
              "  <script>\n",
              "    async function quickchart(key) {\n",
              "      const quickchartButtonEl =\n",
              "        document.querySelector('#' + key + ' button');\n",
              "      quickchartButtonEl.disabled = true;  // To prevent multiple clicks.\n",
              "      quickchartButtonEl.classList.add('colab-df-spinner');\n",
              "      try {\n",
              "        const charts = await google.colab.kernel.invokeFunction(\n",
              "            'suggestCharts', [key], {});\n",
              "      } catch (error) {\n",
              "        console.error('Error during call to suggestCharts:', error);\n",
              "      }\n",
              "      quickchartButtonEl.classList.remove('colab-df-spinner');\n",
              "      quickchartButtonEl.classList.add('colab-df-quickchart-complete');\n",
              "    }\n",
              "    (() => {\n",
              "      let quickchartButtonEl =\n",
              "        document.querySelector('#df-5c3eb8bc-4158-4993-9cad-499c6704ffcf button');\n",
              "      quickchartButtonEl.style.display =\n",
              "        google.colab.kernel.accessAllowed ? 'block' : 'none';\n",
              "    })();\n",
              "  </script>\n",
              "</div>\n",
              "    </div>\n",
              "  </div>\n"
            ],
            "application/vnd.google.colaboratory.intrinsic+json": {
              "type": "dataframe",
              "variable_name": "df_merged",
              "repr_error": "'DataFrame' object has no attribute 'dtype'"
            }
          },
          "metadata": {},
          "execution_count": 24
        }
      ]
    }
  ]
}